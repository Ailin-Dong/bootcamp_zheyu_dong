{
 "cells": [
  {
   "cell_type": "markdown",
   "id": "e5d27dd0",
   "metadata": {},
   "source": [
    "# Stage 07 — Outliers, Risk & Assumptions"
   ]
  },
  {
   "cell_type": "code",
   "execution_count": null,
   "id": "f9b8b090",
   "metadata": {},
   "outputs": [],
   "source": [
    "\n",
    "import pandas as pd, numpy as np\n",
    "from pathlib import Path\n",
    "\n",
    "DATA = Path(\"../data/raw/outliers_homework.csv\")\n",
    "df = pd.read_csv(DATA)\n",
    "df.head()\n"
   ]
  },
  {
   "cell_type": "code",
   "execution_count": null,
   "id": "31efb606",
   "metadata": {},
   "outputs": [],
   "source": [
    "\n",
    "def detect_outliers_iqr(series: pd.Series) -> pd.Series:\n",
    "    q1, q3 = series.quantile([0.25,0.75])\n",
    "    iqr = q3 - q1\n",
    "    lower, upper = q1 - 1.5*iqr, q3 + 1.5*iqr\n",
    "    return (series < lower) | (series > upper)\n",
    "\n",
    "def detect_outliers_zscore(series: pd.Series, threshold=3.0) -> pd.Series:\n",
    "    mu, sd = series.mean(), series.std()\n",
    "    z = (series - mu) / sd\n",
    "    return z.abs() > threshold\n",
    "\n",
    "def winsorize_series(series: pd.Series, lower=0.05, upper=0.95) -> pd.Series:\n",
    "    lo, hi = series.quantile(lower), series.quantile(upper)\n",
    "    return series.clip(lo, hi)\n"
   ]
  },
  {
   "cell_type": "code",
   "execution_count": null,
   "id": "401986c8",
   "metadata": {},
   "outputs": [],
   "source": [
    "\n",
    "df['outlier_iqr'] = detect_outliers_iqr(df['target_y'])\n",
    "df['outlier_z'] = detect_outliers_zscore(df['target_y'])\n",
    "df.head()\n"
   ]
  },
  {
   "cell_type": "code",
   "execution_count": null,
   "id": "fd027c6e",
   "metadata": {},
   "outputs": [],
   "source": [
    "\n",
    "def summarize(series):\n",
    "    return pd.Series({'mean':series.mean(),'median':series.median(),'std':series.std()})\n",
    "\n",
    "summary_full = summarize(df['target_y'])\n",
    "summary_no_iqr = summarize(df.loc[~df['outlier_iqr'],'target_y'])\n",
    "summary_no_z = summarize(df.loc[~df['outlier_z'],'target_y'])\n",
    "pd.DataFrame({'full':summary_full,'no_iqr':summary_no_iqr,'no_z':summary_no_z})\n"
   ]
  }
 ],
 "metadata": {},
 "nbformat": 4,
 "nbformat_minor": 5
}
