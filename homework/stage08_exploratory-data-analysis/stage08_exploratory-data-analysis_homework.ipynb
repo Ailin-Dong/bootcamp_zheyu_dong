{
 "cells": [
  {
   "cell_type": "markdown",
   "id": "4c965068",
   "metadata": {},
   "source": [
    "# Stage 08 — Exploratory Data Analysis\n",
    "\n",
    "This notebook performs profiling, visualization, and reflection on dataset structure, risks, and assumptions."
   ]
  },
  {
   "cell_type": "markdown",
   "id": "3bac0349",
   "metadata": {},
   "source": [
    "## 1. Load Dataset"
   ]
  },
  {
   "cell_type": "code",
   "execution_count": null,
   "id": "61ae8dc2",
   "metadata": {},
   "outputs": [],
   "source": [
    "import pandas as pd, numpy as np\n",
    "from pathlib import Path\n",
    "\n",
    "DATA = Path('data/raw/sample.csv')\n",
    "DATA.parent.mkdir(parents=True, exist_ok=True)\n",
    "\n",
    "# Synthetic fallback if no dataset exists\n",
    "if not DATA.exists():\n",
    "    np.random.seed(0)\n",
    "    df = pd.DataFrame({\n",
    "        'id': range(1,201),\n",
    "        'age': np.random.normal(35, 10, 200).round(0),\n",
    "        'income': np.random.normal(60000, 15000, 200).round(0),\n",
    "        'spend': np.random.normal(2000, 500, 200).round(0),\n",
    "        'gender': np.random.choice(['M','F'], 200)\n",
    "    })\n",
    "    df.to_csv(DATA, index=False)\n",
    "\n",
    "df = pd.read_csv(DATA)\n",
    "df.head()"
   ]
  },
  {
   "cell_type": "markdown",
   "id": "7572ee89",
   "metadata": {},
   "source": [
    "## 2. Profile Numeric and Categorical Columns"
   ]
  },
  {
   "cell_type": "code",
   "execution_count": null,
   "id": "12615e40",
   "metadata": {},
   "outputs": [],
   "source": [
    "df.info()"
   ]
  },
  {
   "cell_type": "code",
   "execution_count": null,
   "id": "ad785aec",
   "metadata": {},
   "outputs": [],
   "source": [
    "df.describe(include='all')"
   ]
  },
  {
   "cell_type": "code",
   "execution_count": null,
   "id": "3e752b7b",
   "metadata": {},
   "outputs": [],
   "source": [
    "df.isna().sum()"
   ]
  },
  {
   "cell_type": "markdown",
   "id": "113be6d3",
   "metadata": {},
   "source": [
    "## 3. Distributional Plots"
   ]
  },
  {
   "cell_type": "code",
   "execution_count": null,
   "id": "d753f6ef",
   "metadata": {},
   "outputs": [],
   "source": [
    "import matplotlib.pyplot as plt\n",
    "import seaborn as sns\n",
    "\n",
    "plt.figure(figsize=(12,4))\n",
    "plt.subplot(1,3,1); sns.histplot(df['age'], kde=True); plt.title('Age Distribution')\n",
    "plt.subplot(1,3,2); sns.histplot(df['income'], kde=True); plt.title('Income Distribution')\n",
    "plt.subplot(1,3,3); sns.boxplot(x=df['spend']); plt.title('Spend Boxplot')\n",
    "plt.tight_layout(); plt.show()"
   ]
  },
  {
   "cell_type": "markdown",
   "id": "06d0d259",
   "metadata": {},
   "source": [
    "## 4. Bivariate Visuals"
   ]
  },
  {
   "cell_type": "code",
   "execution_count": null,
   "id": "660e96b5",
   "metadata": {},
   "outputs": [],
   "source": [
    "plt.figure(figsize=(10,4))\n",
    "plt.subplot(1,2,1); sns.scatterplot(x='income', y='spend', data=df); plt.title('Income vs Spend')\n",
    "plt.subplot(1,2,2); sns.lineplot(x='age', y='income', data=df.sort_values('age')); plt.title('Age vs Income')\n",
    "plt.tight_layout(); plt.show()"
   ]
  },
  {
   "cell_type": "markdown",
   "id": "5cd88bb1",
   "metadata": {},
   "source": [
    "## 5. Correlation Heatmap (Optional)"
   ]
  },
  {
   "cell_type": "code",
   "execution_count": null,
   "id": "ab3e5a89",
   "metadata": {},
   "outputs": [],
   "source": [
    "plt.figure(figsize=(6,4))\n",
    "sns.heatmap(df.corr(numeric_only=True), annot=True, cmap='coolwarm')\n",
    "plt.title('Correlation Heatmap')\n",
    "plt.show()"
   ]
  },
  {
   "cell_type": "markdown",
   "id": "44cee2cb",
   "metadata": {},
   "source": [
    "## 6. Findings, Risks, and Assumptions\n",
    "- **Findings:** Age and income roughly normal; spend shows outliers (boxplot). Income and spend positively related.\n",
    "- **Risks:** If outliers are true extreme behavior, removing them could bias results; correlation does not imply causation.\n",
    "- **Assumptions:** Normality assumed for z-score metrics; linearity for regression candidates.\n",
    "- **Structure:** No seasonality in synthetic data; real dataset may require time indexing."
   ]
  },
  {
   "cell_type": "markdown",
   "id": "4ff8f229",
   "metadata": {},
   "source": [
    "## 7. Implications for Next Step\n",
    "- Engineer income per age ratio.\n",
    "- Normalize skewed spend variable.\n",
    "- Handle outliers in spend (cap or transform).\n",
    "- Encode gender categorical."
   ]
  }
 ],
 "metadata": {},
 "nbformat": 4,
 "nbformat_minor": 5
}
