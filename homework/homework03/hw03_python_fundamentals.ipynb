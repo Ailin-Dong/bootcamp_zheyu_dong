{
 "cells": [
  {
   "cell_type": "markdown",
   "id": "96505785",
   "metadata": {},
   "source": [
    "# Data Assignment Template\n",
    "\n",
    "_This notebook walks through the whole workflow: NumPy ops, data loading, summary stats, saving outputs, plotting, and reusable utilities._"
   ]
  },
  {
   "cell_type": "markdown",
   "id": "275f5a47",
   "metadata": {},
   "source": [
    "## 0. Setup\n",
    "- Creates folders `data/processed/` and `src/` (if missing)\n",
    "- Imports core libraries\n",
    "- Sets a flexible CSV path resolver: prefers `data/starter_data.csv`, falls back to `/mnt/data/starter_data.csv` (for this environment)"
   ]
  },
  {
   "cell_type": "code",
   "execution_count": null,
   "id": "6728e6a1",
   "metadata": {},
   "outputs": [],
   "source": [
    "# Standard imports\n",
    "import os, sys, time, io\n",
    "from pathlib import Path\n",
    "\n",
    "import numpy as np\n",
    "import pandas as pd\n",
    "import matplotlib.pyplot as plt\n",
    "\n",
    "# Create folders for outputs and code\n",
    "Path(\"/Users/hust/bootcamp_zheyu_dong/homework/homework03\").mkdir(parents=True, exist_ok=True)\n",
    "Path(\"src\").mkdir(parents=True, exist_ok=True)\n",
    "\n",
    "# Helper: robust CSV path resolver\n",
    "def resolve_csv_path():\n",
    "    candidates = [\n",
    "        Path(\"/Users/hust/bootcamp_zheyu_dong/homework/homework03/starter_data.csv\"),\n",
    "        Path(\"/mnt//Users/hust/bootcamp_zheyu_dong/homework/homework03/starter_data.csv\"),\n",
    "    ]\n",
    "    for p in candidates:\n",
    "        if p.exists():\n",
    "            return str(p)\n",
    "    raise FileNotFoundError(\"starter_data.csv not found in data/ or /mnt/data/.\")\n",
    "\n",
    "print(\"Setup complete.\")"
   ]
  },
  {
   "cell_type": "markdown",
   "id": "09852c92",
   "metadata": {},
   "source": [
    "## 1. NumPy Operations\n",
    "- Create an array and perform elementwise operations\n",
    "- Compare **loop vs vectorized** performance"
   ]
  },
  {
   "cell_type": "code",
   "execution_count": null,
   "id": "ccc3147b",
   "metadata": {},
   "outputs": [],
   "source": [
    "from time import perf_counter\n",
    "import numpy as np\n",
    "import pandas as pd\n",
    "\n",
    "arr = np.arange(100_000, dtype=float)\n",
    "\n",
    "# Vectorized\n",
    "t0 = perf_counter()\n",
    "vec = arr * 2 + 1\n",
    "t_vec = perf_counter() - t0\n",
    "\n",
    "# Pure Python loop\n",
    "t0 = perf_counter()\n",
    "out = []\n",
    "for x in arr:\n",
    "    out.append(x * 2 + 1)\n",
    "out = np.array(out, dtype=float)\n",
    "t_loop = perf_counter() - t0\n",
    "\n",
    "timing_df = pd.DataFrame({\"method\": [\"vectorized\",\"loop\"], \"seconds\": [t_vec, t_loop]})\n",
    "print(timing_df)\n",
    "timing_df"
   ]
  },
  {
   "cell_type": "markdown",
   "id": "b556670b",
   "metadata": {},
   "source": [
    "## 2. Load Dataset & Inspect\n",
    "- Load `starter_data.csv`\n",
    "- Inspect with `.info()` and `.head()`"
   ]
  },
  {
   "cell_type": "code",
   "execution_count": null,
   "id": "a42f9abb",
   "metadata": {},
   "outputs": [],
   "source": [
    "csv_path = resolve_csv_path()\n",
    "df = pd.read_csv(csv_path)\n",
    "\n",
    "print(f\"CSV loaded from: {csv_path}\\n\")\n",
    "\n",
    "# .info() to stdout\n",
    "buf = io.StringIO()\n",
    "df.info(buf=buf)\n",
    "print(buf.getvalue())\n",
    "\n",
    "# Show first few rows in a table\n",
    "df.head()"
   ]
  },
  {
   "cell_type": "markdown",
   "id": "c3ecd077",
   "metadata": {},
   "source": [
    "## 3. Summary Statistics & GroupBy Aggregation\n",
    "- `.describe()` for numeric columns\n",
    "- `groupby()` by a categorical column if available; otherwise derive one from the first numeric column (low/mid/high)"
   ]
  },
  {
   "cell_type": "code",
   "execution_count": null,
   "id": "ad6a0226",
   "metadata": {},
   "outputs": [],
   "source": [
    "# Numeric describe\n",
    "numeric_df = df.select_dtypes(include=\"number\")\n",
    "num_summary = numeric_df.describe()\n",
    "num_summary"
   ]
  },
  {
   "cell_type": "code",
   "execution_count": null,
   "id": "702bb62f",
   "metadata": {},
   "outputs": [],
   "source": [
    "# Smart groupby: prefer 'category' column, then any object/category column, else derive from first numeric column\n",
    "cat_col = None\n",
    "for c in df.columns:\n",
    "    if c.lower() == \"category\":\n",
    "        cat_col = c; break\n",
    "\n",
    "if cat_col is None:\n",
    "    obj_cols = [c for c in df.columns if df[c].dtype == \"object\" or str(df[c].dtype).startswith(\"category\")]\n",
    "    if obj_cols:\n",
    "        cat_col = obj_cols[0]\n",
    "\n",
    "if cat_col is None and not numeric_df.empty:\n",
    "    first_num = numeric_df.columns[0]\n",
    "    try:\n",
    "        df[\"_derived_cat\"] = pd.qcut(df[first_num], q=3, labels=[\"low\",\"mid\",\"high\"])\n",
    "    except Exception:\n",
    "        df[\"_derived_cat\"] = pd.cut(df[first_num], bins=3, labels=[\"low\",\"mid\",\"high\"])\n",
    "    cat_col = \"_derived_cat\"\n",
    "\n",
    "grouped = (df.groupby(cat_col).agg([\"count\",\"mean\"])\n",
    "           if cat_col is not None else\n",
    "           numeric_df.agg([\"count\",\"mean\"]))\n",
    "\n",
    "print(\"Grouping column:\", cat_col)\n",
    "grouped"
   ]
  },
  {
   "cell_type": "markdown",
   "id": "910d9dea",
   "metadata": {},
   "source": [
    "## 4. Save Outputs + Basic Plot\n",
    "- Save summary to `data/processed/summary.csv` & `.json`\n",
    "- Save grouped results to `data/processed/grouped_summary.csv`\n",
    "- **Bonus**: histogram of the first numeric column (saved to `data/processed/basic_plot.png`)"
   ]
  },
  {
   "cell_type": "code",
   "execution_count": null,
   "id": "20ac265d",
   "metadata": {},
   "outputs": [],
   "source": [
    "# Save outputs\n",
    "from pathlib import Path\n",
    "summary_csv = Path(\"/Users/hust/bootcamp_zheyu_dong/homework/homework03/summary.csv\")\n",
    "summary_json = Path(\"/Users/hust/bootcamp_zheyu_dong/homework/homework03/summary.json\")\n",
    "grouped_csv  = Path(\"/Users/hust/bootcamp_zheyu_dong/homework/homework03/grouped_summary.csv\")\n",
    "plot_path    = Path(\"/Users/hust/bootcamp_zheyu_dong/homework/homework03/basic_plot.png\")\n",
    "\n",
    "num_summary.to_csv(summary_csv, index=True)\n",
    "num_summary.to_json(summary_json)\n",
    "grouped.to_csv(grouped_csv, index=True)\n",
    "\n",
    "# Basic plot (matplotlib, single chart, no styles/colors set)\n",
    "if not numeric_df.empty:\n",
    "    plt.figure()\n",
    "    numeric_df.iloc[:,0].plot(kind=\"hist\", title=f\"Histogram of {numeric_df.columns[0]}\")\n",
    "    plt.xlabel(numeric_df.columns[0])\n",
    "    plt.tight_layout()\n",
    "    plt.savefig(plot_path)\n",
    "    plt.close()\n",
    "    print(f\"Plot saved to: {plot_path}\")\n",
    "else:\n",
    "    print(\"No numeric columns found. Plot skipped.\")\n",
    "\n",
    "print(f\"Saved: {summary_csv}\\nSaved: {summary_json}\\nSaved: {grouped_csv}\")"
   ]
  },
  {
   "cell_type": "markdown",
   "id": "2aa3a9fa",
   "metadata": {},
   "source": [
    "## 5. Reusable Functions\n",
    "- Write a utility function `get_summary_stats(df)`\n",
    "- **Bonus**: move to `src/utils.py` and import back"
   ]
  },
  {
   "cell_type": "code",
   "execution_count": null,
   "id": "dddafbe7",
   "metadata": {},
   "outputs": [],
   "source": [
    "# In-notebook utility\n",
    "def get_summary_stats(df: pd.DataFrame) -> pd.DataFrame:\n",
    "    \\\"\\\"\\\"Return describe() for numeric columns only.\\\"\\\"\\\"\n",
    "    return df.select_dtypes(include=\"number\").describe()\n",
    "\n",
    "get_summary_stats(df)"
   ]
  },
  {
   "cell_type": "code",
   "execution_count": null,
   "id": "8299c90f",
   "metadata": {},
   "outputs": [],
   "source": [
    "# Bonus: write utils module and import\n",
    "utils_code = r'''\n",
    "import pandas as pd\n",
    "\n",
    "def get_summary_stats(df: pd.DataFrame) -> pd.DataFrame:\n",
    "    return df.select_dtypes(include=\"number\").describe()\n",
    "\n",
    "def infer_groupby_and_agg(df: pd.DataFrame) -> pd.DataFrame:\n",
    "    cat_col = None\n",
    "    for c in df.columns:\n",
    "        if c.lower() == \"category\":\n",
    "            cat_col = c; break\n",
    "    if cat_col is None:\n",
    "        obj_cols = [c for c in df.columns if df[c].dtype == \"object\" or str(df[c].dtype).startswith(\"category\")]\n",
    "        if obj_cols:\n",
    "            cat_col = obj_cols[0]\n",
    "    if cat_col is None:\n",
    "        numeric_df = df.select_dtypes(include=\"number\")\n",
    "        if not numeric_df.empty:\n",
    "            first_num = numeric_df.columns[0]\n",
    "            try:\n",
    "                df = df.copy()\n",
    "                df[\"_derived_cat\"] = pd.qcut(df[first_num], q=3, labels=[\"low\",\"mid\",\"high\"])\n",
    "            except Exception:\n",
    "                df = df.copy()\n",
    "                df[\"_derived_cat\"] = pd.cut(df[first_num], bins=3, labels=[\"low\",\"mid\",\"high\"])\n",
    "            cat_col = \"_derived_cat\"\n",
    "    return (df.groupby(cat_col).agg([\"count\",\"mean\"])\n",
    "            if cat_col is not None else\n",
    "            df.select_dtypes(include=\"number\").agg([\"count\",\"mean\"]))\n",
    "'''\n",
    "with open(\"src/utils.py\", \"w\", encoding=\"utf-8\") as f:\n",
    "    f.write(utils_code)\n",
    "\n",
    "# Make sure we can import from project root\n",
    "if \".\" not in sys.path:\n",
    "    sys.path.append(\".\")\n",
    "\n",
    "from src.utils import get_summary_stats as util_get_summary_stats, infer_groupby_and_agg\n",
    "\n",
    "util_get_summary_stats(df), infer_groupby_and_agg(df)"
   ]
  },
  {
   "cell_type": "markdown",
   "id": "5984b8a6",
   "metadata": {},
   "source": [
    "## 6. Wrap-up\n",
    "- Quick recap of what was saved and where"
   ]
  },
  {
   "cell_type": "code",
   "execution_count": null,
   "id": "4452ff69",
   "metadata": {},
   "outputs": [],
   "source": [
    "print(\"All done ✅\")\n",
    "print(\"Outputs are in /Users/hust/bootcamp_zheyu_dong/homework/homework03/:\")\n",
    "from pathlib import Path\n",
    "for p in Path(\"/Users/hust/bootcamp_zheyu_dong/homework/homework03\").glob(\"*\"):\n",
    "    print(\" -\", p)"
   ]
  }
 ],
 "metadata": {},
 "nbformat": 4,
 "nbformat_minor": 5
}
