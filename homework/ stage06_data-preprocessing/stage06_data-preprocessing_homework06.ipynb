{
 "cells": [
  {
   "cell_type": "markdown",
   "id": "5b83fc25",
   "metadata": {},
   "source": [
    "# Stage 06 — Data Preprocessing (homework06)\n",
    "\n",
    "This notebook demonstrates cleaning pipeline with absolute paths in .env."
   ]
  },
  {
   "cell_type": "code",
   "execution_count": null,
   "id": "185b6c25",
   "metadata": {},
   "outputs": [],
   "source": [
    "import os, sys\n",
    "from pathlib import Path\n",
    "import pandas as pd\n",
    "from dotenv import load_dotenv\n",
    "\n",
    "# Load .env\n",
    "load_dotenv(Path('.env'))\n",
    "\n",
    "RAW = Path(os.getenv(\"DATA_DIR_RAW\"))\n",
    "PROC = Path(os.getenv(\"DATA_DIR_PROCESSED\"))\n",
    "RAW.mkdir(parents=True, exist_ok=True)\n",
    "PROC.mkdir(parents=True, exist_ok=True)\n",
    "\n",
    "print(\"RAW =\", RAW)\n",
    "print(\"PROC =\", PROC)"
   ]
  },
  {
   "cell_type": "markdown",
   "id": "6cceabae",
   "metadata": {},
   "source": [
    "## Load dataset (demo if none exists)"
   ]
  },
  {
   "cell_type": "code",
   "execution_count": null,
   "id": "a6fbc4bd",
   "metadata": {},
   "outputs": [],
   "source": [
    "raw_csvs = sorted(RAW.glob(\"*.csv\"))\n",
    "if not raw_csvs:\n",
    "    demo = pd.DataFrame({\n",
    "        \"id\":[1,2,3,4,5],\n",
    "        \"category\":[\"A\",\"B\",\"A\",\"B\",\"A\"],\n",
    "        \"price\":[10, None, 30, 40, None],\n",
    "        \"date\": pd.date_range(\"2025-01-01\", periods=5)\n",
    "    })\n",
    "    demo.to_csv(RAW / \"demo_raw.csv\", index=False)\n",
    "    raw_csvs = [RAW / \"demo_raw.csv\"]\n",
    "\n",
    "RAW_FILE = raw_csvs[0]\n",
    "df = pd.read_csv(RAW_FILE, parse_dates=['date'] if 'date' in pd.read_csv(RAW_FILE, nrows=0).columns else None)\n",
    "print(\"Loaded:\", RAW_FILE)\n",
    "df.head()"
   ]
  },
  {
   "cell_type": "markdown",
   "id": "a1a3ee5f",
   "metadata": {},
   "source": [
    "## Import cleaning utilities"
   ]
  },
  {
   "cell_type": "code",
   "execution_count": null,
   "id": "3d19a855",
   "metadata": {},
   "outputs": [],
   "source": [
    "if str(Path('.').resolve()) not in sys.path:\n",
    "    sys.path.append(str(Path('.').resolve()))\n",
    "from src.cleaning import fill_missing_median, drop_missing, normalize_data"
   ]
  },
  {
   "cell_type": "markdown",
   "id": "df209c44",
   "metadata": {},
   "source": [
    "## Apply cleaning pipeline"
   ]
  },
  {
   "cell_type": "code",
   "execution_count": null,
   "id": "90cd434d",
   "metadata": {},
   "outputs": [],
   "source": [
    "df_filled = fill_missing_median(df)\n",
    "df_dropped = drop_missing(df_filled)\n",
    "df_clean = normalize_data(df_dropped, method=\"zscore\")\n",
    "\n",
    "print(\"Shapes:\", df.shape, df_filled.shape, df_dropped.shape, df_clean.shape)\n",
    "df_clean.head()"
   ]
  },
  {
   "cell_type": "markdown",
   "id": "a14027b0",
   "metadata": {},
   "source": [
    "## Save cleaned dataset"
   ]
  },
  {
   "cell_type": "code",
   "execution_count": null,
   "id": "ff685c1e",
   "metadata": {},
   "outputs": [],
   "source": [
    "from datetime import datetime\n",
    "ts = datetime.now().strftime(\"%Y%m%d-%H%M%S\")\n",
    "out = PROC / f\"cleaned_{ts}.csv\"\n",
    "df_clean.to_csv(out, index=False)\n",
    "print(\"Saved ->\", out)\n",
    "out"
   ]
  }
 ],
 "metadata": {},
 "nbformat": 4,
 "nbformat_minor": 5
}
