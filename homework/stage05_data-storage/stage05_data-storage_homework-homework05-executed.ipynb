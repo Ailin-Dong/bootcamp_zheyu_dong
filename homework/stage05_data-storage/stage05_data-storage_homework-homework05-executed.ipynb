{
 "cells": [
  {
   "cell_type": "markdown",
   "id": "0e5e0649",
   "metadata": {},
   "source": [
    "# Homework Starter — Stage 05: Data Storage\n",
    "Name: \n",
    "Date: \n",
    "\n",
    "Objectives:\n",
    "- Env-driven paths to `data/raw/` and `data/processed/`\n",
    "- Save CSV and Parquet; reload and validate\n",
    "- Abstract IO with utility functions; document choices"
   ]
  },
  {
   "cell_type": "code",
   "execution_count": 1,
   "id": "879294f9",
   "metadata": {
    "execution": {
     "iopub.execute_input": "2025-08-22T16:11:35.130492Z",
     "iopub.status.busy": "2025-08-22T16:11:35.130003Z",
     "iopub.status.idle": "2025-08-22T16:11:36.449795Z",
     "shell.execute_reply": "2025-08-22T16:11:36.448067Z"
    }
   },
   "outputs": [
    {
     "name": "stdout",
     "output_type": "stream",
     "text": [
      "RAW -> /mnt/data/data/raw\n",
      "PROC -> /mnt/data/data/processed\n"
     ]
    }
   ],
   "source": [
    "import os, pathlib, datetime as dt\n",
    "import pandas as pd\n",
    "from dotenv import load_dotenv\n",
    "\n",
    "load_dotenv()\n",
    "RAW = pathlib.Path(os.getenv('DATA_DIR_RAW', 'data/raw'))\n",
    "PROC = pathlib.Path(os.getenv('DATA_DIR_PROCESSED', 'data/processed'))\n",
    "RAW.mkdir(parents=True, exist_ok=True)\n",
    "PROC.mkdir(parents=True, exist_ok=True)\n",
    "print('RAW ->', RAW.resolve())\n",
    "print('PROC ->', PROC.resolve())"
   ]
  },
  {
   "cell_type": "markdown",
   "id": "58488610",
   "metadata": {},
   "source": [
    "## 1) Create or Load a Sample DataFrame\n",
    "You may reuse data from prior stages or create a small synthetic dataset."
   ]
  },
  {
   "cell_type": "code",
   "execution_count": 2,
   "id": "79d95c6f",
   "metadata": {
    "execution": {
     "iopub.execute_input": "2025-08-22T16:11:36.456993Z",
     "iopub.status.busy": "2025-08-22T16:11:36.456310Z",
     "iopub.status.idle": "2025-08-22T16:11:36.513653Z",
     "shell.execute_reply": "2025-08-22T16:11:36.478185Z"
    }
   },
   "outputs": [
    {
     "data": {
      "text/html": [
       "<div>\n",
       "<style scoped>\n",
       "    .dataframe tbody tr th:only-of-type {\n",
       "        vertical-align: middle;\n",
       "    }\n",
       "\n",
       "    .dataframe tbody tr th {\n",
       "        vertical-align: top;\n",
       "    }\n",
       "\n",
       "    .dataframe thead th {\n",
       "        text-align: right;\n",
       "    }\n",
       "</style>\n",
       "<table border=\"1\" class=\"dataframe\">\n",
       "  <thead>\n",
       "    <tr style=\"text-align: right;\">\n",
       "      <th></th>\n",
       "      <th>date</th>\n",
       "      <th>ticker</th>\n",
       "      <th>price</th>\n",
       "    </tr>\n",
       "  </thead>\n",
       "  <tbody>\n",
       "    <tr>\n",
       "      <th>0</th>\n",
       "      <td>2024-01-01</td>\n",
       "      <td>AAPL</td>\n",
       "      <td>149.496691</td>\n",
       "    </tr>\n",
       "    <tr>\n",
       "      <th>1</th>\n",
       "      <td>2024-01-02</td>\n",
       "      <td>AAPL</td>\n",
       "      <td>148.872103</td>\n",
       "    </tr>\n",
       "    <tr>\n",
       "      <th>2</th>\n",
       "      <td>2024-01-03</td>\n",
       "      <td>AAPL</td>\n",
       "      <td>147.779536</td>\n",
       "    </tr>\n",
       "    <tr>\n",
       "      <th>3</th>\n",
       "      <td>2024-01-04</td>\n",
       "      <td>AAPL</td>\n",
       "      <td>145.958061</td>\n",
       "    </tr>\n",
       "    <tr>\n",
       "      <th>4</th>\n",
       "      <td>2024-01-05</td>\n",
       "      <td>AAPL</td>\n",
       "      <td>146.360122</td>\n",
       "    </tr>\n",
       "  </tbody>\n",
       "</table>\n",
       "</div>"
      ],
      "text/plain": [
       "        date ticker       price\n",
       "0 2024-01-01   AAPL  149.496691\n",
       "1 2024-01-02   AAPL  148.872103\n",
       "2 2024-01-03   AAPL  147.779536\n",
       "3 2024-01-04   AAPL  145.958061\n",
       "4 2024-01-05   AAPL  146.360122"
      ]
     },
     "execution_count": 2,
     "metadata": {},
     "output_type": "execute_result"
    }
   ],
   "source": [
    "import numpy as np\n",
    "dates = pd.date_range('2024-01-01', periods=20, freq='D')\n",
    "df = pd.DataFrame({'date': dates, 'ticker': ['AAPL']*20, 'price': 150 + np.random.randn(20).cumsum()})\n",
    "df.head()"
   ]
  },
  {
   "cell_type": "markdown",
   "id": "9cd04897",
   "metadata": {},
   "source": [
    "## 2) Save CSV to data/raw/ and Parquet to data/processed/ (TODO)\n",
    "- Use timestamped filenames.\n",
    "- Handle missing Parquet engine gracefully."
   ]
  },
  {
   "cell_type": "code",
   "execution_count": 3,
   "id": "879372a2",
   "metadata": {
    "execution": {
     "iopub.execute_input": "2025-08-22T16:11:36.520326Z",
     "iopub.status.busy": "2025-08-22T16:11:36.519884Z",
     "iopub.status.idle": "2025-08-22T16:11:36.537042Z",
     "shell.execute_reply": "2025-08-22T16:11:36.536027Z"
    }
   },
   "outputs": [
    {
     "name": "stdout",
     "output_type": "stream",
     "text": [
      "Saved CSV -> /mnt/data/data/raw/sample_20250822-161136.csv\n",
      "Parquet save skipped (missing engine?). Tip: pip install pyarrow or fastparquet\n",
      "Reason: Unable to find a usable engine; tried using: 'pyarrow', 'fastparquet'.\n",
      "A suitable version of pyarrow or fastparquet is required for parquet support.\n",
      "Trying to import the above resulted in these errors:\n",
      " - Missing optional dependency 'pyarrow'. pyarrow is required for parquet support. Use pip or conda to install pyarrow.\n",
      " - Missing optional dependency 'fastparquet'. fastparquet is required for parquet support. Use pip or conda to install fastparquet.\n"
     ]
    },
    {
     "data": {
      "text/plain": [
       "(PosixPath('data/raw/sample_20250822-161136.csv'),\n",
       " PosixPath('data/processed/sample_20250822-161136.parquet'))"
      ]
     },
     "execution_count": 3,
     "metadata": {},
     "output_type": "execute_result"
    }
   ],
   "source": [
    "\n",
    "def ts(): return dt.datetime.now().strftime('%Y%m%d-%H%M%S')\n",
    "\n",
    "# Save CSV\n",
    "csv_path = RAW / f\"sample_{ts()}.csv\"\n",
    "df.to_csv(csv_path, index=False)\n",
    "print(\"Saved CSV ->\", csv_path.resolve())\n",
    "\n",
    "# Save Parquet (robust: engine may be missing)\n",
    "pq_path = None\n",
    "try:\n",
    "    pq_path = PROC / f\"sample_{ts()}.parquet\"\n",
    "    df.to_parquet(pq_path)  # requires pyarrow or fastparquet\n",
    "    print(\"Saved Parquet ->\", pq_path.resolve())\n",
    "except Exception as e:\n",
    "    print(\"Parquet save skipped (missing engine?). Tip: pip install pyarrow or fastparquet\")\n",
    "    print(\"Reason:\", e)\n",
    "\n",
    "csv_path, pq_path\n"
   ]
  },
  {
   "cell_type": "markdown",
   "id": "a9dec149",
   "metadata": {},
   "source": [
    "## 3) Reload and Validate (TODO)\n",
    "- Compare shapes and key dtypes."
   ]
  },
  {
   "cell_type": "code",
   "execution_count": 4,
   "id": "7a4d4944",
   "metadata": {
    "execution": {
     "iopub.execute_input": "2025-08-22T16:11:36.543092Z",
     "iopub.status.busy": "2025-08-22T16:11:36.542691Z",
     "iopub.status.idle": "2025-08-22T16:11:36.559485Z",
     "shell.execute_reply": "2025-08-22T16:11:36.558363Z"
    }
   },
   "outputs": [
    {
     "name": "stdout",
     "output_type": "stream",
     "text": [
      "CSV validation: {'shape_equal': True, 'date_is_datetime': True, 'price_is_numeric': True}\n"
     ]
    },
    {
     "data": {
      "text/plain": [
       "({'shape_equal': True, 'date_is_datetime': True, 'price_is_numeric': True},\n",
       " None)"
      ]
     },
     "execution_count": 4,
     "metadata": {},
     "output_type": "execute_result"
    }
   ],
   "source": [
    "\n",
    "def validate_loaded(original, reloaded):\n",
    "    checks = {\n",
    "        'shape_equal': original.shape == reloaded.shape,\n",
    "        'date_is_datetime': pd.api.types.is_datetime64_any_dtype(reloaded['date']) if 'date' in reloaded.columns else False,\n",
    "        'price_is_numeric': pd.api.types.is_numeric_dtype(reloaded['price']) if 'price' in reloaded.columns else False,\n",
    "    }\n",
    "    return checks\n",
    "\n",
    "# Reload CSV\n",
    "df_csv = pd.read_csv(csv_path, parse_dates=['date'] if 'date' in df.columns else None)\n",
    "csv_checks = validate_loaded(df, df_csv)\n",
    "print(\"CSV validation:\", csv_checks)\n",
    "\n",
    "# Reload Parquet (if saved)\n",
    "pq_checks = None\n",
    "from pathlib import Path\n",
    "if pq_path and Path(pq_path).exists():\n",
    "    try:\n",
    "        df_pq = pd.read_parquet(pq_path)\n",
    "        pq_checks = validate_loaded(df, df_pq)\n",
    "        print(\"Parquet validation:\", pq_checks)\n",
    "    except Exception as e:\n",
    "        print(\"Parquet read skipped (missing engine?):\", e)\n",
    "\n",
    "csv_checks, pq_checks\n"
   ]
  },
  {
   "cell_type": "code",
   "execution_count": 5,
   "id": "d6a96446",
   "metadata": {
    "execution": {
     "iopub.execute_input": "2025-08-22T16:11:36.617869Z",
     "iopub.status.busy": "2025-08-22T16:11:36.617272Z",
     "iopub.status.idle": "2025-08-22T16:11:36.624993Z",
     "shell.execute_reply": "2025-08-22T16:11:36.623952Z"
    }
   },
   "outputs": [
    {
     "name": "stdout",
     "output_type": "stream",
     "text": [
      "Parquet read failed: Unable to find a usable engine; tried using: 'pyarrow', 'fastparquet'.\n",
      "A suitable version of pyarrow or fastparquet is required for parquet support.\n",
      "Trying to import the above resulted in these errors:\n",
      " - Missing optional dependency 'pyarrow'. pyarrow is required for parquet support. Use pip or conda to install pyarrow.\n",
      " - Missing optional dependency 'fastparquet'. fastparquet is required for parquet support. Use pip or conda to install fastparquet.\n"
     ]
    }
   ],
   "source": [
    "if pq_path:\n",
    "    try:\n",
    "        df_pq = pd.read_parquet(pq_path)\n",
    "        validate_loaded(df, df_pq)\n",
    "    except Exception as e:\n",
    "        print('Parquet read failed:', e)"
   ]
  },
  {
   "cell_type": "markdown",
   "id": "a5898e25",
   "metadata": {},
   "source": [
    "## 4) Utilities (TODO)\n",
    "- Implement `detect_format`, `write_df`, `read_df`.\n",
    "- Use suffix to route; create parent dirs if needed; friendly errors for Parquet."
   ]
  },
  {
   "cell_type": "code",
   "execution_count": 6,
   "id": "d5284fc1",
   "metadata": {
    "execution": {
     "iopub.execute_input": "2025-08-22T16:11:36.630717Z",
     "iopub.status.busy": "2025-08-22T16:11:36.630338Z",
     "iopub.status.idle": "2025-08-22T16:11:36.656600Z",
     "shell.execute_reply": "2025-08-22T16:11:36.655578Z"
    }
   },
   "outputs": [
    {
     "name": "stdout",
     "output_type": "stream",
     "text": [
      "write_df -> data/raw/util_20250822-161136.csv\n",
      "read_df head (csv) ->\n"
     ]
    },
    {
     "data": {
      "text/html": [
       "<div>\n",
       "<style scoped>\n",
       "    .dataframe tbody tr th:only-of-type {\n",
       "        vertical-align: middle;\n",
       "    }\n",
       "\n",
       "    .dataframe tbody tr th {\n",
       "        vertical-align: top;\n",
       "    }\n",
       "\n",
       "    .dataframe thead th {\n",
       "        text-align: right;\n",
       "    }\n",
       "</style>\n",
       "<table border=\"1\" class=\"dataframe\">\n",
       "  <thead>\n",
       "    <tr style=\"text-align: right;\">\n",
       "      <th></th>\n",
       "      <th>date</th>\n",
       "      <th>ticker</th>\n",
       "      <th>price</th>\n",
       "    </tr>\n",
       "  </thead>\n",
       "  <tbody>\n",
       "    <tr>\n",
       "      <th>0</th>\n",
       "      <td>2024-01-01</td>\n",
       "      <td>AAPL</td>\n",
       "      <td>149.496691</td>\n",
       "    </tr>\n",
       "    <tr>\n",
       "      <th>1</th>\n",
       "      <td>2024-01-02</td>\n",
       "      <td>AAPL</td>\n",
       "      <td>148.872103</td>\n",
       "    </tr>\n",
       "    <tr>\n",
       "      <th>2</th>\n",
       "      <td>2024-01-03</td>\n",
       "      <td>AAPL</td>\n",
       "      <td>147.779536</td>\n",
       "    </tr>\n",
       "    <tr>\n",
       "      <th>3</th>\n",
       "      <td>2024-01-04</td>\n",
       "      <td>AAPL</td>\n",
       "      <td>145.958061</td>\n",
       "    </tr>\n",
       "    <tr>\n",
       "      <th>4</th>\n",
       "      <td>2024-01-05</td>\n",
       "      <td>AAPL</td>\n",
       "      <td>146.360122</td>\n",
       "    </tr>\n",
       "  </tbody>\n",
       "</table>\n",
       "</div>"
      ],
      "text/plain": [
       "        date ticker       price\n",
       "0 2024-01-01   AAPL  149.496691\n",
       "1 2024-01-02   AAPL  148.872103\n",
       "2 2024-01-03   AAPL  147.779536\n",
       "3 2024-01-04   AAPL  145.958061\n",
       "4 2024-01-05   AAPL  146.360122"
      ]
     },
     "metadata": {},
     "output_type": "display_data"
    },
    {
     "name": "stdout",
     "output_type": "stream",
     "text": [
      "Skipping Parquet util demo: Parquet engine not available. Run: pip install pyarrow  (or fastparquet)\n"
     ]
    }
   ],
   "source": [
    "\n",
    "import typing as t, pathlib\n",
    "\n",
    "def detect_format(path: t.Union[str, pathlib.Path]) -> str:\n",
    "    s = str(path).lower()\n",
    "    if s.endswith('.csv'):\n",
    "        return 'csv'\n",
    "    if s.endswith('.parquet') or s.endswith('.pq') or s.endswith('.parq'):\n",
    "        return 'parquet'\n",
    "    raise ValueError('Unsupported format: ' + s)\n",
    "\n",
    "def write_df(df: pd.DataFrame, path: t.Union[str, pathlib.Path]) -> pathlib.Path:\n",
    "    p = pathlib.Path(path)\n",
    "    p.parent.mkdir(parents=True, exist_ok=True)\n",
    "    kind = detect_format(p)\n",
    "    if kind == 'csv':\n",
    "        df.to_csv(p, index=False)\n",
    "        return p\n",
    "    else:\n",
    "        try:\n",
    "            df.to_parquet(p)\n",
    "            return p\n",
    "        except Exception as e:\n",
    "            raise RuntimeError('Parquet engine not available. Run: pip install pyarrow  (or fastparquet)') from e\n",
    "\n",
    "def read_df(path: t.Union[str, pathlib.Path]) -> pd.DataFrame:\n",
    "    p = pathlib.Path(path)\n",
    "    kind = detect_format(p)\n",
    "    if kind == 'csv':\n",
    "        # Try to infer date column if present\n",
    "        try:\n",
    "            return pd.read_csv(p, parse_dates=['date'])\n",
    "        except Exception:\n",
    "            return pd.read_csv(p)\n",
    "    else:\n",
    "        try:\n",
    "            return pd.read_parquet(p)\n",
    "        except Exception as e:\n",
    "            raise RuntimeError('Parquet engine not available. Run: pip install pyarrow  (or fastparquet)') from e\n",
    "\n",
    "# Demo usage\n",
    "p_csv = RAW / f\"util_{ts()}.csv\"\n",
    "p_pq  = PROC / f\"util_{ts()}.parquet\"\n",
    "\n",
    "print(\"write_df ->\", write_df(df, p_csv))\n",
    "print(\"read_df head (csv) ->\")\n",
    "display(read_df(p_csv).head())\n",
    "\n",
    "try:\n",
    "    print(\"write_df ->\", write_df(df, p_pq))\n",
    "    print(\"read_df head (parquet) ->\")\n",
    "    display(read_df(p_pq).head())\n",
    "except RuntimeError as e:\n",
    "    print('Skipping Parquet util demo:', e)\n"
   ]
  },
  {
   "cell_type": "markdown",
   "id": "5626edc4",
   "metadata": {},
   "source": [
    "## 5) Documentation (TODO)\n",
    "- Update README with a **Data Storage** section (folders, formats, env usage).\n",
    "- Summarize validation checks and any assumptions."
   ]
  }
 ],
 "metadata": {
  "kernelspec": {
   "display_name": "Python 3",
   "language": "python",
   "name": "python3"
  },
  "language_info": {
   "codemirror_mode": {
    "name": "ipython",
    "version": 3
   },
   "file_extension": ".py",
   "mimetype": "text/x-python",
   "name": "python",
   "nbconvert_exporter": "python",
   "pygments_lexer": "ipython3",
   "version": "3.11.8"
  }
 },
 "nbformat": 4,
 "nbformat_minor": 5
}
