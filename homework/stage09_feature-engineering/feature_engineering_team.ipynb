{
 "cells": [
  {
   "cell_type": "markdown",
   "id": "c28012e2",
   "metadata": {},
   "source": [
    "# Stage 09 — Feature Engineering Homework\n",
    "\n",
    "This notebook creates new features from the dataset and documents the rationale."
   ]
  },
  {
   "cell_type": "markdown",
   "id": "125b0a01",
   "metadata": {},
   "source": [
    "## 1. Load Dataset"
   ]
  },
  {
   "cell_type": "code",
   "execution_count": null,
   "id": "f5da70a6",
   "metadata": {},
   "outputs": [],
   "source": [
    "import pandas as pd, numpy as np\n",
    "from pathlib import Path\n",
    "\n",
    "DATA = Path('../data/raw/sample.csv')\n",
    "DATA.parent.mkdir(parents=True, exist_ok=True)\n",
    "\n",
    "# Synthetic fallback if no dataset exists\n",
    "if not DATA.exists():\n",
    "    np.random.seed(42)\n",
    "    df = pd.DataFrame({\n",
    "        'id': range(1,201),\n",
    "        'age': np.random.normal(35, 10, 200).round(0),\n",
    "        'income': np.random.normal(60000, 15000, 200).round(0),\n",
    "        'spend': np.random.normal(2000, 500, 200).round(0),\n",
    "        'gender': np.random.choice(['M','F'], 200)\n",
    "    })\n",
    "    df.to_csv(DATA, index=False)\n",
    "\n",
    "df = pd.read_csv(DATA)\n",
    "df.head()"
   ]
  },
  {
   "cell_type": "markdown",
   "id": "3aa13d54",
   "metadata": {},
   "source": [
    "## 2. Feature 1 — Income per Age\n",
    "Rationale: Normalizes income by age, capturing relative earning capacity across different age groups."
   ]
  },
  {
   "cell_type": "code",
   "execution_count": null,
   "id": "3e4a55ad",
   "metadata": {},
   "outputs": [],
   "source": [
    "df['income_per_age'] = df['income'] / df['age'].replace(0, np.nan)\n",
    "df[['age','income','income_per_age']].head()"
   ]
  },
  {
   "cell_type": "markdown",
   "id": "665e247f",
   "metadata": {},
   "source": [
    "## 3. Feature 2 — Spend to Income Ratio\n",
    "Rationale: Proportion of spending relative to income; higher ratios may indicate financial stress or higher consumption preference."
   ]
  },
  {
   "cell_type": "code",
   "execution_count": null,
   "id": "d75e63fe",
   "metadata": {},
   "outputs": [],
   "source": [
    "df['spend_to_income_ratio'] = df['spend'] / df['income'].replace(0, np.nan)\n",
    "df[['income','spend','spend_to_income_ratio']].head()"
   ]
  },
  {
   "cell_type": "markdown",
   "id": "15fb0cfd",
   "metadata": {},
   "source": [
    "## 4. Feature 3 — High Income Flag\n",
    "Rationale: Binary feature indicating above-average income; useful for classification-type tasks."
   ]
  },
  {
   "cell_type": "code",
   "execution_count": null,
   "id": "8541265f",
   "metadata": {},
   "outputs": [],
   "source": [
    "mean_income = df['income'].mean()\n",
    "df['high_income_flag'] = (df['income'] > mean_income).astype(int)\n",
    "df[['income','high_income_flag']].head()"
   ]
  },
  {
   "cell_type": "markdown",
   "id": "5c9ce821",
   "metadata": {},
   "source": [
    "## 5. Visualization and Correlation Checks"
   ]
  },
  {
   "cell_type": "code",
   "execution_count": null,
   "id": "bc22b408",
   "metadata": {},
   "outputs": [],
   "source": [
    "import seaborn as sns\n",
    "import matplotlib.pyplot as plt\n",
    "\n",
    "sns.scatterplot(x='age', y='income_per_age', data=df)\n",
    "plt.title('Age vs Income per Age')\n",
    "plt.show()\n",
    "\n",
    "sns.boxplot(x='high_income_flag', y='spend_to_income_ratio', data=df)\n",
    "plt.title('Spend to Income Ratio by High Income Flag')\n",
    "plt.show()"
   ]
  },
  {
   "cell_type": "markdown",
   "id": "f2481f08",
   "metadata": {},
   "source": [
    "## 6. Save Engineered Dataset"
   ]
  },
  {
   "cell_type": "code",
   "execution_count": null,
   "id": "6c87cbf1",
   "metadata": {},
   "outputs": [],
   "source": [
    "OUT = Path('../data/processed/engineered.csv')\n",
    "OUT.parent.mkdir(parents=True, exist_ok=True)\n",
    "df.to_csv(OUT, index=False)\n",
    "print('Saved ->', OUT.resolve())"
   ]
  },
  {
   "cell_type": "markdown",
   "id": "dd82ec87",
   "metadata": {},
   "source": [
    "## 7. Conclusion\n",
    "- Added three engineered features.\n",
    "- Each feature has clear rationale documented.\n",
    "- Saved cleaned dataset for downstream modeling."
   ]
  }
 ],
 "metadata": {},
 "nbformat": 4,
 "nbformat_minor": 5
}
