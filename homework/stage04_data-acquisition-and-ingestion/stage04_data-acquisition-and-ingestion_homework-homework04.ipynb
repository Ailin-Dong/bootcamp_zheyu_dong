{
 "cells": [
  {
   "cell_type": "markdown",
   "id": "77a0366f",
   "metadata": {},
   "source": [
    "# Homework Starter — Stage 04: Data Acquisition and Ingestion\n",
    "Name: \n",
    "Date: \n",
    "\n",
    "## Objectives\n",
    "- API ingestion with secrets in `.env`\n",
    "- Scrape a permitted public table\n",
    "- Validate and save raw data to `data/raw/`"
   ]
  },
  {
   "cell_type": "code",
   "execution_count": null,
   "id": "6bd6cca9",
   "metadata": {},
   "outputs": [],
   "source": [
    "import os, pathlib, datetime as dt\n",
    "import requests\n",
    "import pandas as pd\n",
    "from bs4 import BeautifulSoup\n",
    "from dotenv import load_dotenv\n",
    "\n",
    "RAW = pathlib.Path(r'/Users/hust/bootcamp_zheyu_dong/homework/homework04') ; RAW.mkdir(parents=True, exist_ok=True)\n",
    "load_dotenv(); print('ALPHAVANTAGE_API_KEY loaded?', bool(os.getenv('ALPHAVANTAGE_API_KEY')))"
   ]
  },
  {
   "cell_type": "markdown",
   "id": "9e37069f",
   "metadata": {},
   "source": [
    "## Helpers (use or modify)"
   ]
  },
  {
   "cell_type": "code",
   "execution_count": null,
   "id": "e9b042af",
   "metadata": {},
   "outputs": [],
   "source": [
    "def ts():\n",
    "    return dt.datetime.now().strftime('%Y%m%d-%H%M%S')\n",
    "\n",
    "def save_csv(df: pd.DataFrame, prefix: str, **meta):\n",
    "    mid = '_'.join([f\"{k}-{v}\" for k,v in meta.items()])\n",
    "    path = RAW / f\"{prefix}_{mid}_{ts()}.csv\"\n",
    "    df.to_csv(path, index=False)\n",
    "    print('Saved', path)\n",
    "    return path\n",
    "\n",
    "def validate(df: pd.DataFrame, required):\n",
    "    missing = [c for c in required if c not in df.columns]\n",
    "    return {'missing': missing, 'shape': df.shape, 'na_total': int(df.isna().sum().sum())}"
   ]
  },
  {
   "cell_type": "markdown",
   "id": "9ff2398f",
   "metadata": {},
   "source": [
    "## Part 1 — API Pull (Required)\n",
    "Choose an endpoint (e.g., Alpha Vantage or use `yfinance` fallback)."
   ]
  },
  {
   "cell_type": "code",
   "execution_count": null,
   "id": "31dc0889",
   "metadata": {},
   "outputs": [],
   "source": [
    "\n",
    "SYMBOL = 'AAPL'\n",
    "\n",
    "def _alpha_fetch(symbol: str):\n",
    "    key = os.getenv('ALPHAVANTAGE_API_KEY')\n",
    "    if not key:\n",
    "        raise RuntimeError(\"No ALPHAVANTAGE_API_KEY in env\")\n",
    "    url = 'https://www.alphavantage.co/query'\n",
    "    params = {\n",
    "        'function': 'TIME_SERIES_DAILY_ADJUSTED',\n",
    "        'symbol': symbol,\n",
    "        'outputsize': 'compact',\n",
    "        'apikey': key,\n",
    "    }\n",
    "    r = requests.get(url, params=params, timeout=30)\n",
    "    r.raise_for_status()\n",
    "    js = r.json()\n",
    "    key_ts = next((k for k in js.keys() if 'Time Series' in k), None)\n",
    "    if key_ts is None:\n",
    "        raise RuntimeError(f\"Unexpected Alpha Vantage payload: {list(js.keys())}\")\n",
    "    df = pd.DataFrame(js[key_ts]).T.reset_index()\n",
    "    df.columns = ['date'] + list(df.columns[1:])\n",
    "    df = df[['date','5. adjusted close']].rename(columns={'5. adjusted close':'adj_close'})\n",
    "    df['date'] = pd.to_datetime(df['date'])\n",
    "    df['adj_close'] = pd.to_numeric(df['adj_close'])\n",
    "    return df\n",
    "\n",
    "try:\n",
    "    df_api = _alpha_fetch(SYMBOL)\n",
    "except Exception as e:\n",
    "    print(\"API fetch failed or unavailable; using offline demo data:\", e)\n",
    "    df_api = pd.DataFrame({\n",
    "        'date': pd.to_datetime(['2025-01-02','2025-01-03','2025-01-06','2025-01-07','2025-01-08']),\n",
    "        'adj_close': [189.4, 190.2, 191.8, 190.9, 192.5],\n",
    "    })\n",
    "\n",
    "v_api = validate(df_api, ['date','adj_close']); v_api\n"
   ]
  },
  {
   "cell_type": "code",
   "execution_count": null,
   "id": "92d2c4c5",
   "metadata": {},
   "outputs": [],
   "source": [
    "\n",
    "src = 'alpha' if os.getenv('ALPHAVANTAGE_API_KEY') else 'offline'\n",
    "_ = save_csv(df_api.sort_values('date'), prefix='api', source=src, symbol=SYMBOL)\n"
   ]
  },
  {
   "cell_type": "markdown",
   "id": "6deb49ac",
   "metadata": {},
   "source": [
    "## Part 2 — Scrape a Public Table (Required)\n",
    "Replace `SCRAPE_URL` with a permitted page containing a simple table."
   ]
  },
  {
   "cell_type": "code",
   "execution_count": null,
   "id": "9bf5a327",
   "metadata": {},
   "outputs": [],
   "source": [
    "\n",
    "SCRAPE_URL = 'https://www.ctrip.com'  # TODO: replace with permitted page\n",
    "headers = {'User-Agent':'AFE-Homework/1.0'}\n",
    "try:\n",
    "    resp = requests.get(SCRAPE_URL, headers=headers, timeout=30); resp.raise_for_status()\n",
    "    soup = BeautifulSoup(resp.text, 'html.parser')\n",
    "    rows = [[c.get_text(strip=True) for c in tr.find_all(['th','td'])] for tr in soup.find_all('tr')]\n",
    "    rows = [r for r in rows if r]\n",
    "    header, data = rows[0], rows[1:]\n",
    "    df_scrape = pd.DataFrame(data, columns=header)\n",
    "except Exception as e:\n",
    "    print('Scrape failed, using inline demo table:', e)\n",
    "    html = '''\n",
    "    <table>\n",
    "      <tr><th>Ticker</th><th>Price</th><th>Volume</th></tr>\n",
    "      <tr><td>AAA</td><td>101.2</td><td>12000</td></tr>\n",
    "      <tr><td>BBB</td><td>99.8</td><td>18050</td></tr>\n",
    "      <tr><td>CCC</td><td>105.3</td><td>9500</td></tr>\n",
    "    </table>\n",
    "    '''\n",
    "    soup = BeautifulSoup(html, 'html.parser')\n",
    "    rows = [[c.get_text(strip=True) for c in tr.find_all(['th','td'])] for tr in soup.find_all('tr')]\n",
    "    rows = [r for r in rows if r]\n",
    "    header, data = rows[0], rows[1:]\n",
    "    df_scrape = pd.DataFrame(data, columns=header)\n",
    "\n",
    "# Basic cleaning / types\n",
    "for col in ['Price','Volume']:\n",
    "    if col in df_scrape.columns:\n",
    "        df_scrape[col] = pd.to_numeric(df_scrape[col], errors='coerce')\n",
    "\n",
    "v_scrape = validate(df_scrape, list(df_scrape.columns)); v_scrape\n"
   ]
  },
  {
   "cell_type": "code",
   "execution_count": null,
   "id": "4429bd97",
   "metadata": {},
   "outputs": [],
   "source": [
    "_ = save_csv(df_scrape, prefix='scrape', site='example', table='markets')"
   ]
  },
  {
   "cell_type": "markdown",
   "id": "20660366",
   "metadata": {},
   "source": [
    "## Documentation\n",
    "- API Source: (URL/endpoint/params)\n",
    "- Scrape Source: (URL/table description)\n",
    "- Assumptions & risks: (rate limits, selector fragility, schema changes)\n",
    "- Confirm `.env` is not committed."
   ]
  }
 ],
 "metadata": {
  "kernelspec": {
   "display_name": "Python 3",
   "language": "python",
   "name": "python3"
  },
  "language_info": {
   "name": "python"
  }
 },
 "nbformat": 4,
 "nbformat_minor": 5
}
