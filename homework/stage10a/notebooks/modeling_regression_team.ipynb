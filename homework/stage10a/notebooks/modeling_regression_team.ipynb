{
 "cells": [
  {
   "cell_type": "markdown",
   "id": "57d217d6",
   "metadata": {},
   "source": [
    "# Modeling — Linear Regression (Baseline & Diagnostics)\n",
    "\n",
    "**Chain statement:** In the lecture, we learned to fit a baseline model and diagnose assumptions with residuals. Now, we adapt that workflow to our dataset to evaluate trust and usefulness."
   ]
  },
  {
   "cell_type": "markdown",
   "id": "d2e40478",
   "metadata": {},
   "source": [
    "## 1) Load dataset (cleaned or synthetic fallback)"
   ]
  },
  {
   "cell_type": "code",
   "execution_count": null,
   "id": "48c1d897",
   "metadata": {},
   "outputs": [],
   "source": [
    "import numpy as np, pandas as pd\n",
    "from pathlib import Path\n",
    "\n",
    "# Change this path to your cleaned dataset if available\n",
    "DATA = Path(\"../data/raw/cleaned_or_project.csv\")\n",
    "DATA.parent.mkdir(parents=True, exist_ok=True)\n",
    "\n",
    "# Synthetic fallback to mimic a regression task\n",
    "if not DATA.exists():\n",
    "    rng = np.random.default_rng(10)\n",
    "    n = 500\n",
    "    x1 = rng.normal(0, 1, n)\n",
    "    x2 = rng.normal(10, 2, n)\n",
    "    noise = rng.normal(0, 0.8, n)\n",
    "    y = 1.5 * x1 - 0.7 * x2 + 5 + noise\n",
    "    df = pd.DataFrame({\"x1\": x1, \"x2\": x2, \"y\": y})\n",
    "    DATA = DATA.with_name(\"synthetic_regression.csv\")\n",
    "    df.to_csv(DATA, index=False)\n",
    "else:\n",
    "    df = pd.read_csv(DATA)\n",
    "\n",
    "print(\"Using data:\", DATA)\n",
    "df.head()"
   ]
  },
  {
   "cell_type": "markdown",
   "id": "d159c7bf",
   "metadata": {},
   "source": [
    "## 2) Train/Test split"
   ]
  },
  {
   "cell_type": "code",
   "execution_count": null,
   "id": "88e08653",
   "metadata": {},
   "outputs": [],
   "source": [
    "from sklearn.model_selection import train_test_split\n",
    "\n",
    "target_col = \"y\"\n",
    "feature_cols = [c for c in df.columns if c != target_col]\n",
    "\n",
    "X = df[feature_cols].copy()\n",
    "y = df[target_col].copy()\n",
    "\n",
    "X_train, X_test, y_train, y_test = train_test_split(X, y, test_size=0.2, random_state=42)\n",
    "X_train.shape, X_test.shape"
   ]
  },
  {
   "cell_type": "markdown",
   "id": "37f96116",
   "metadata": {},
   "source": [
    "## 3) Fit baseline LinearRegression"
   ]
  },
  {
   "cell_type": "code",
   "execution_count": null,
   "id": "134dea5f",
   "metadata": {},
   "outputs": [],
   "source": [
    "from sklearn.linear_model import LinearRegression\n",
    "\n",
    "linreg = LinearRegression()\n",
    "linreg.fit(X_train, y_train)\n",
    "\n",
    "coef_table = pd.DataFrame({\n",
    "    \"feature\": [\"intercept\"] + feature_cols,\n",
    "    \"coef\": [linreg.intercept_] + list(linreg.coef_)\n",
    "})\n",
    "coef_table"
   ]
  },
  {
   "cell_type": "markdown",
   "id": "93fc5445",
   "metadata": {},
   "source": [
    "## 4) Predictions, residuals, R², and RMSE"
   ]
  },
  {
   "cell_type": "code",
   "execution_count": null,
   "id": "9c54210f",
   "metadata": {},
   "outputs": [],
   "source": [
    "from sklearn.metrics import r2_score, mean_squared_error\n",
    "import numpy as np\n",
    "\n",
    "y_pred_train = linreg.predict(X_train)\n",
    "y_pred_test = linreg.predict(X_test)\n",
    "\n",
    "resid_train = y_train - y_pred_train\n",
    "resid_test = y_test - y_pred_test\n",
    "\n",
    "r2_train = r2_score(y_train, y_pred_train)\n",
    "r2_test = r2_score(y_test, y_pred_test)\n",
    "rmse_train = mean_squared_error(y_train, y_pred_train, squared=False)\n",
    "rmse_test = mean_squared_error(y_test, y_pred_test, squared=False)\n",
    "\n",
    "pd.DataFrame({\n",
    "    \"set\": [\"train\",\"test\"],\n",
    "    \"R2\": [r2_train, r2_test],\n",
    "    \"RMSE\": [rmse_train, rmse_test]\n",
    "})"
   ]
  },
  {
   "cell_type": "markdown",
   "id": "9f758088",
   "metadata": {},
   "source": [
    "## 5) Residual diagnostics (assumptions)"
   ]
  },
  {
   "cell_type": "code",
   "execution_count": null,
   "id": "f82a48c0",
   "metadata": {},
   "outputs": [],
   "source": [
    "import matplotlib.pyplot as plt\n",
    "import scipy.stats as stats\n",
    "import numpy as np\n",
    "\n",
    "fig, axes = plt.subplots(2, 2, figsize=(10, 8))\n",
    "\n",
    "# Residuals vs Fitted (train)\n",
    "axes[0,0].scatter(y_pred_train, resid_train, alpha=0.6)\n",
    "axes[0,0].axhline(0, color=\"black\", linewidth=1)\n",
    "axes[0,0].set_title(\"Residuals vs Fitted (train)\")\n",
    "axes[0,0].set_xlabel(\"Fitted values\")\n",
    "axes[0,0].set_ylabel(\"Residuals\")\n",
    "\n",
    "# Histogram of residuals (train)\n",
    "axes[0,1].hist(resid_train, bins=30)\n",
    "axes[0,1].set_title(\"Residual histogram (train)\")\n",
    "\n",
    "# QQ plot (train)\n",
    "stats.probplot(resid_train, dist=\"norm\", plot=axes[1,0])\n",
    "axes[1,0].set_title(\"QQ-plot of residuals (train)\")\n",
    "\n",
    "# Residuals vs key predictor (x1 if exists)\n",
    "if \"x1\" in X_train.columns:\n",
    "    axes[1,1].scatter(X_train[\"x1\"], resid_train, alpha=0.6)\n",
    "    axes[1,1].axhline(0, color=\"black\", linewidth=1)\n",
    "    axes[1,1].set_title(\"Residuals vs x1 (train)\")\n",
    "    axes[1,1].set_xlabel(\"x1\")\n",
    "    axes[1,1].set_ylabel(\"Residuals\")\n",
    "else:\n",
    "    axes[1,1].axis(\"off\")\n",
    "    axes[1,1].set_title(\"Add residuals vs key predictor here\")\n",
    "\n",
    "plt.tight_layout()\n",
    "plt.show()"
   ]
  },
  {
   "cell_type": "markdown",
   "id": "065c9032",
   "metadata": {},
   "source": [
    "## 6) Interpretation of assumptions\n",
    "\n",
    "- **Linearity**: Inspect *Residuals vs Fitted*；若残差围绕 0 随机散布、无系统形状，支持线性关系假设。  \n",
    "- **Independence**: 若数据按观测独立采样，且残差图未呈现明显序列相关（可扩展：残差的 lag-1 散点/自相关图），则独立性更可信。  \n",
    "- **Homoscedasticity（方差齐性）**: 残差的垂直分布带宽大致均匀，说明误差方差随拟合值变化不大；若呈漏斗形，则可能异方差。  \n",
    "- **Normality**: 直方图接近对称、QQ 图点落在参考直线上下，支持残差近似正态（用于置信区间与显著性近似合理）。"
   ]
  },
  {
   "cell_type": "markdown",
   "id": "0cdf10c5",
   "metadata": {},
   "source": [
    "## 7) (Optional) Add a transformed feature and refit"
   ]
  },
  {
   "cell_type": "code",
   "execution_count": null,
   "id": "1b9aa547",
   "metadata": {},
   "outputs": [],
   "source": [
    "# Example: add x1^2 to model to capture mild curvature while remaining a linear regression in parameters\n",
    "from sklearn.model_selection import train_test_split\n",
    "from sklearn.metrics import r2_score, mean_squared_error\n",
    "\n",
    "if \"x1\" in X.columns:\n",
    "    X_aug = X.copy()\n",
    "    X_aug[\"x1_sq\"] = X_aug[\"x1\"] ** 2\n",
    "    X_train_aug, X_test_aug, y_train_aug, y_test_aug = train_test_split(X_aug, y, test_size=0.2, random_state=42)\n",
    "\n",
    "    linreg_aug = LinearRegression().fit(X_train_aug, y_train_aug)\n",
    "    y_pred_test_aug = linreg_aug.predict(X_test_aug)\n",
    "\n",
    "    r2_test_aug = r2_score(y_test_aug, y_pred_test_aug)\n",
    "    rmse_test_aug = mean_squared_error(y_test_aug, y_pred_test_aug, squared=False)\n",
    "\n",
    "    compare = pd.DataFrame({\n",
    "        \"model\": [\"baseline\", \"augmented (+ x1^2)\"],\n",
    "        \"R2_test\": [r2_test, r2_test_aug],\n",
    "        \"RMSE_test\": [rmse_test, rmse_test_aug]\n",
    "    })\n",
    "    compare\n",
    "else:\n",
    "    print(\"No x1 column present; skip augmented example.\")"
   ]
  },
  {
   "cell_type": "markdown",
   "id": "eea2a9d0",
   "metadata": {},
   "source": [
    "## 8) Conclusion — Do we trust this model?\n",
    "\n",
    "- **Fit quality**: 结合 R² 与 RMSE（train/test），评估是否存在过拟合/欠拟合迹象。  \n",
    "- **Assumptions**: 若残差诊断未显示强系统性偏差（线性、齐性、近似正态），信任度更高。  \n",
    "- **Actionables**: 若异方差或非线性明显，可：\n",
    "  1) 对目标或关键特征做变换（log、平方项、交互项）；  \n",
    "  2) 加入稳定化技巧（如加权回归、稳健回归）；  \n",
    "  3) 收集更多特征或修正数据质量问题。"
   ]
  }
 ],
 "metadata": {},
 "nbformat": 4,
 "nbformat_minor": 5
}
