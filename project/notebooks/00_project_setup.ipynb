{
 "cells": [
  {
   "cell_type": "code",
   "execution_count": null,
   "id": "03ea719a",
   "metadata": {},
   "outputs": [],
   "source": [
    "from dotenv import load_dotenv\n",
    "load_dotenv()\n",
    "\n",
    "import os\n",
    "print(\"API_KEY exists?\", \"API_KEY\" in os.environ)\n",
    "\n",
    "import numpy as np\n",
    "a = np.array([1, 2, 3, 4])\n",
    "print(\"mean:\", a.mean())"
   ]
  },
  {
   "cell_type": "markdown",
   "id": "47bd00e9",
   "metadata": {},
   "source": [
    "Environment & Config Check"
   ]
  }
 ],
 "metadata": {
  "language_info": {
   "name": "python"
  }
 },
 "nbformat": 4,
 "nbformat_minor": 5
}
